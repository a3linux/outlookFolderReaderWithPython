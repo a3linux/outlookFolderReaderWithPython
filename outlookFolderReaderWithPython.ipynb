{
 "cells": [
  {
   "cell_type": "code",
   "execution_count": 22,
   "metadata": {},
   "outputs": [],
   "source": [
    "# -*- coding: utf-8 -*-\n",
    "\"\"\"\n",
    "Outlook folder reader:\n",
    " Read specified folder and save items in the folder to csv\n",
    "\n",
    "original:\n",
    "https://www.laurivan.com/python-and-outlook-an-example/\n",
    "see:\n",
    "https://docs.python.jp/3/using/windows.html#pywin32\n",
    "http://timgolden.me.uk/pywin32-docs/contents.html\n",
    "http://timgolden.me.uk/pywin32-docs/html/com/win32com/HTML/QuickStartClientCom.html\n",
    "http://fum125.hatenablog.com/entry/2016/11/12/233457\n",
    "https://msdn.microsoft.com/ja-jp/VBA/Outlook-VBA/articles/recipient-type-property-outlook\n",
    "https://docs.python.jp/3/library/csv.html?highlight=csv\n",
    "https://msdn.microsoft.com/ja-jp/vba/outlook-vba/articles/propertyaccessor-object-outlook\n",
    "\"\"\"\n",
    "import win32com.client\n",
    "\n",
    "DEBUG = False"
   ]
  },
  {
   "cell_type": "markdown",
   "metadata": {},
   "source": [
    "# Outlook オブジェクト作成"
   ]
  },
  {
   "cell_type": "code",
   "execution_count": 23,
   "metadata": {},
   "outputs": [],
   "source": [
    "outlook = win32com.client.Dispatch(\"Outlook.Application\").GetNamespace(\"MAPI\")"
   ]
  },
  {
   "cell_type": "markdown",
   "metadata": {},
   "source": [
    "# サポートメソッド"
   ]
  },
  {
   "cell_type": "code",
   "execution_count": 24,
   "metadata": {},
   "outputs": [],
   "source": [
    "def items(outlook_items_object):\n",
    "    array_size = outlook_items_object.Count\n",
    "    for item_index in range(1,array_size+1):\n",
    "        yield (item_index, outlook_items_object[item_index])\n",
    "\n",
    "def prop(outlook_object):\n",
    "    return sorted( outlook_object._prop_map_get_.keys() )\n"
   ]
  },
  {
   "cell_type": "markdown",
   "metadata": {},
   "source": [
    "# フォルダーのパース"
   ]
  },
  {
   "cell_type": "code",
   "execution_count": 25,
   "metadata": {},
   "outputs": [],
   "source": [
    "roots = outlook.Folders"
   ]
  },
  {
   "cell_type": "code",
   "execution_count": 26,
   "metadata": {},
   "outputs": [],
   "source": [
    "def parseFolders(folders, depth=0, recursive=True):\n",
    "    if not folders:\n",
    "        return\n",
    "    for index, folder in items(folders):\n",
    "        print( \" \"*depth*2, u\"(%i) [%s] [%s]\" % (index, folder.Name, folder))\n",
    "        if recursive:\n",
    "            parseFolders(folder.Folders, depth + 1, recursive)\n"
   ]
  },
  {
   "cell_type": "code",
   "execution_count": 27,
   "metadata": {},
   "outputs": [],
   "source": [
    "#parseFolders(roots, recursive=True)"
   ]
  },
  {
   "cell_type": "markdown",
   "metadata": {},
   "source": [
    "# 特定のフォルダのアイテム表示"
   ]
  },
  {
   "cell_type": "code",
   "execution_count": 28,
   "metadata": {},
   "outputs": [],
   "source": [
    "def search(folders, queryPath):\n",
    "    if DEBUG:\n",
    "        print(queryPath)\n",
    "    if not folders:\n",
    "        return None\n",
    "    if len(queryPath)<=0:\n",
    "        return None\n",
    "    for index, folder in items(folders):\n",
    "        if folder.Name == queryPath[0]:\n",
    "            if len(queryPath)==1:\n",
    "                return folder\n",
    "            else:\n",
    "                return search(folder.Folders, queryPath[1:])\n",
    "    return None\n",
    "\n",
    "def printItems(mailItems):\n",
    "    for index, mailItem in items(mailItems):\n",
    "        mailFrom = mailItem.SenderEmailAddress + \";\"\n",
    "        mailTo = \"\"\n",
    "        mailCc = \"\"\n",
    "        for i, recipient in items(mailItem.Recipients):\n",
    "            if recipient.Type == win32com.client.constants.olTo:\n",
    "                mailTo += recipient.Address + \";\"\n",
    "            if (recipient.Type == win32com.client.constants.olCC or recipient.Type == win32com.client.constants.olBCC):\n",
    "                mailCc += recipient.Address + \";\"\n",
    "            if recipient.Type == win32com.client.constants.olOriginator:\n",
    "                mailFrom += recipient.Address + \";\"\n",
    "        mailSubj = mailItem.Subject\n",
    "        mailSentDate = mailItem.SentOn\n",
    "        print(\"[%s]\\t[%s]\\t[%s]\\t[%s]\\t[%s]\" % (mailFrom, mailTo, mailCc, mailSubj, mailSentDate))\n",
    "    return"
   ]
  },
  {
   "cell_type": "code",
   "execution_count": 29,
   "metadata": {},
   "outputs": [
    {
     "name": "stdout",
     "output_type": "stream",
     "text": [
      "受信トレイ\n"
     ]
    }
   ],
   "source": [
    "folder = search(roots, 'Outlook データ ファイル\\\\受信トレイ'.split('\\\\'))\n",
    "print(folder.Name)\n",
    "printItems(folder.Items)\n"
   ]
  },
  {
   "cell_type": "markdown",
   "metadata": {},
   "source": [
    "# 特定のフォルダのアイテムをCSV保存"
   ]
  },
  {
   "cell_type": "code",
   "execution_count": 30,
   "metadata": {},
   "outputs": [],
   "source": [
    "import csv\n",
    "\n",
    "def getMailItemHeader(mailItem):\n",
    "    PropName = \"http://schemas.microsoft.com/mapi/proptag/0x007D001E\"\n",
    "    return mailItem.PropertyAccessor.GetProperty(PropName)\n",
    "\n",
    "def saveItems(mailItems, saveFileName):\n",
    "    with open(saveFileName, 'w', newline='', encoding='utf-8', errors='replace') as csvfile:\n",
    "        writer = csv.writer(csvfile)\n",
    "        writer.writerow([\"from\", \"to\", \"cc\", \"sentDate\", \"subject\", \"body\", \"internet mail header\"])\n",
    "\n",
    "        for index, mailItem in items(mailItems):\n",
    "            mailFrom = mailItem.SenderEmailAddress + \";\"\n",
    "            mailTo = \"\"\n",
    "            mailCc = \"\"\n",
    "            for i, recipient in items(mailItem.Recipients):\n",
    "                if recipient.Type == win32com.client.constants.olTo:\n",
    "                    mailTo += recipient.Address + \";\"\n",
    "                if (recipient.Type == win32com.client.constants.olCC or recipient.Type == win32com.client.constants.olBCC):\n",
    "                    mailCc += recipient.Address + \";\"\n",
    "                if recipient.Type == win32com.client.constants.olOriginator:\n",
    "                    mailFrom += recipient.Address + \";\"\n",
    "            mailSubj = mailItem.Subject\n",
    "            mailSentDate = mailItem.SentOn\n",
    "            mailBody = mailItem.Body\n",
    "            mailHeader = getMailItemHeader(mailItem)\n",
    "            writer.writerow([mailFrom, mailTo, mailCc, mailSentDate, mailSubj, mailBody, mailHeader])\n",
    "    return"
   ]
  },
  {
   "cell_type": "code",
   "execution_count": 31,
   "metadata": {},
   "outputs": [
    {
     "name": "stdout",
     "output_type": "stream",
     "text": [
      "受信トレイ\n"
     ]
    }
   ],
   "source": [
    "folder = search(roots, 'Outlook データ ファイル\\\\受信トレイ'.split('\\\\'))\n",
    "print(folder.Name)\n",
    "saveItems(folder.Items, 'test.csv')"
   ]
  },
  {
   "cell_type": "code",
   "execution_count": null,
   "metadata": {},
   "outputs": [],
   "source": []
  }
 ],
 "metadata": {
  "kernelspec": {
   "display_name": "Python 3",
   "language": "python",
   "name": "python3"
  },
  "language_info": {
   "codemirror_mode": {
    "name": "ipython",
    "version": 3
   },
   "file_extension": ".py",
   "mimetype": "text/x-python",
   "name": "python",
   "nbconvert_exporter": "python",
   "pygments_lexer": "ipython3",
   "version": "3.5.4"
  }
 },
 "nbformat": 4,
 "nbformat_minor": 2
}
