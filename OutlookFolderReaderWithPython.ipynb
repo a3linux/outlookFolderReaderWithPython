{
 "cells": [
  {
   "cell_type": "code",
   "execution_count": 21,
   "metadata": {},
   "outputs": [],
   "source": [
    "# -*- coding: utf-8 -*-\n",
    "\"\"\"Outlook folder reader:\n",
    " Read specified folder and save items in the folder to csv\n",
    "\n",
    "original:\n",
    "https://www.laurivan.com/python-and-outlook-an-example/\n",
    "see:\n",
    "https://docs.python.jp/3/using/windows.html#pywin32\n",
    "http://timgolden.me.uk/pywin32-docs/contents.html\n",
    "http://timgolden.me.uk/pywin32-docs/html/com/win32com/HTML/QuickStartClientCom.html\n",
    "http://fum125.hatenablog.com/entry/2016/11/12/233457\n",
    "https://msdn.microsoft.com/ja-jp/VBA/Outlook-VBA/articles/recipient-type-property-outlook\n",
    "https://docs.python.jp/3/library/csv.html?highlight=csv\n",
    "https://msdn.microsoft.com/ja-jp/vba/outlook-vba/articles/propertyaccessor-object-outlook\n",
    "\"\"\"\n",
    "import win32com.client\n",
    "\n",
    "DEBUG = False"
   ]
  },
  {
   "cell_type": "markdown",
   "metadata": {},
   "source": [
    "# Outlook オブジェクト作成"
   ]
  },
  {
   "cell_type": "code",
   "execution_count": 22,
   "metadata": {},
   "outputs": [],
   "source": [
    "outlook = win32com.client.Dispatch(\"Outlook.Application\").GetNamespace(\"MAPI\")"
   ]
  },
  {
   "cell_type": "markdown",
   "metadata": {},
   "source": [
    "# サポートメソッド"
   ]
  },
  {
   "cell_type": "code",
   "execution_count": 23,
   "metadata": {},
   "outputs": [],
   "source": [
    "def items(outlook_items_object):\n",
    "    array_size = outlook_items_object.Count\n",
    "    for item_index in range(1,array_size+1):\n",
    "        yield (item_index, outlook_items_object[item_index])\n",
    "    return\n",
    "\n",
    "        \n",
    "def prop(outlook_object):\n",
    "    return sorted( outlook_object._prop_map_get_.keys() )\n",
    "\n"
   ]
  },
  {
   "cell_type": "markdown",
   "metadata": {},
   "source": [
    "# フォルダーのパース"
   ]
  },
  {
   "cell_type": "code",
   "execution_count": 24,
   "metadata": {},
   "outputs": [],
   "source": [
    "roots = outlook.Folders"
   ]
  },
  {
   "cell_type": "code",
   "execution_count": 25,
   "metadata": {},
   "outputs": [],
   "source": [
    "def parse_folders(folders, depth=0, recursive=True):\n",
    "    if not folders:\n",
    "        return\n",
    "    for index, folder in items(folders):\n",
    "        print( \" \"*depth*2, u\"(%i) [%s] [%s]\" % (index, folder.Name, folder))\n",
    "        if recursive:\n",
    "            parse_flders(folder.Folders, depth + 1, recursive)\n",
    "    return\n",
    "\n"
   ]
  },
  {
   "cell_type": "code",
   "execution_count": 26,
   "metadata": {},
   "outputs": [],
   "source": [
    "#parseFolders(roots, recursive=True)"
   ]
  },
  {
   "cell_type": "markdown",
   "metadata": {},
   "source": [
    "# 特定のフォルダのアイテム表示"
   ]
  },
  {
   "cell_type": "code",
   "execution_count": 27,
   "metadata": {},
   "outputs": [],
   "source": [
    "def search(folders, query_path):\n",
    "    if DEBUG:\n",
    "        print(query_path)\n",
    "    if not folders:\n",
    "        return None\n",
    "    if len(query_path)<=0:\n",
    "        return None\n",
    "    for index, folder in items(folders):\n",
    "        if folder.Name == query_path[0]:\n",
    "            if len(query_path)==1:\n",
    "                return folder\n",
    "            else:\n",
    "                return search(folder.Folders, query_path[1:])\n",
    "    return None\n",
    "\n",
    "\n",
    "def print_items(mail_items):\n",
    "    for index, mail_item in items(mail_items):\n",
    "        mail_from = mail_item.SenderEmailAddress + \";\"\n",
    "        mail_to = \"\"\n",
    "        mail_cc = \"\"\n",
    "        for i, recipient in items(mail_item.Recipients):\n",
    "            if recipient.Type == win32com.client.constants.olTo:\n",
    "                mail_to += recipient.Address + \";\"\n",
    "            if (recipient.Type == win32com.client.constants.olCC\n",
    "                or recipient.Type == win32com.client.constants.olBCC):\n",
    "                mail_cc += recipient.Address + \";\"\n",
    "            if recipient.Type == win32com.client.constants.olOriginator:\n",
    "                mail_from += recipient.Address + \";\"\n",
    "        mail_subj = mailItem.Subject\n",
    "        mail_sentdate = mailItem.SentOn\n",
    "        print(\"[%s]\\t[%s]\\t[%s]\\t[%s]\\t[%s]\"\n",
    "              % (mail_from, mail_to, mail_cc, mail_subj, mail_sentdate))\n",
    "    return\n",
    "\n"
   ]
  },
  {
   "cell_type": "code",
   "execution_count": 28,
   "metadata": {},
   "outputs": [
    {
     "name": "stdout",
     "output_type": "stream",
     "text": [
      "受信トレイ\n"
     ]
    }
   ],
   "source": [
    "folder = search(roots, 'Outlook データ ファイル\\\\受信トレイ'.split('\\\\'))\n",
    "print(folder.Name)\n",
    "print_items(folder.Items)\n"
   ]
  },
  {
   "cell_type": "markdown",
   "metadata": {},
   "source": [
    "# 特定のフォルダのアイテムをCSV保存"
   ]
  },
  {
   "cell_type": "code",
   "execution_count": 29,
   "metadata": {},
   "outputs": [],
   "source": [
    "import csv\n",
    "\n",
    "def get_mail_item_header(mail_item):\n",
    "    prop_name = \"http://schemas.microsoft.com/mapi/proptag/0x007D001E\"\n",
    "    return mail_item.PropertyAccessor.GetProperty(prop_name)\n",
    "\n",
    "\n",
    "def save_items(mail_items, save_filename):\n",
    "    with open(save_filename, 'w', newline='', encoding='utf-8', errors='replace') as csvfile:\n",
    "        writer = csv.writer(csvfile)\n",
    "        writer.writerow([\"from\", \"to\", \"cc\", \"sent date\"\n",
    "                         , \"subject\", \"body\", \"internet mail header\"])\n",
    "\n",
    "        for index, mail_item in items(mail_items):\n",
    "            mail_from = mail_item.SenderEmailAddress + \";\"\n",
    "            mail_to = \"\"\n",
    "            mail_cc = \"\"\n",
    "            for i, recipient in items(mail_item.Recipients):\n",
    "                if recipient.Type == win32com.client.constants.olTo:\n",
    "                    mail_to += recipient.Address + \";\"\n",
    "                if (recipient.Type == win32com.client.constants.olCC\n",
    "                    or recipient.Type == win32com.client.constants.olBCC):\n",
    "                    mail_cc += recipient.Address + \";\"\n",
    "                if recipient.Type == win32com.client.constants.olOriginator:\n",
    "                    mail_from += recipient.Address + \";\"\n",
    "            mail_subj = mail_item.Subject\n",
    "            mail_sentdate = mail_item.SentOn\n",
    "            mail_body = mail_item.Body\n",
    "            mail_header = get_mail_item_header(mail_item)\n",
    "            writer.writerow([mail_from, mail_to, mail_cc, mail_sentdate\n",
    "                             , mail_subj, mail_body, mail_header])\n",
    "    return\n",
    "\n"
   ]
  },
  {
   "cell_type": "code",
   "execution_count": 30,
   "metadata": {},
   "outputs": [
    {
     "name": "stdout",
     "output_type": "stream",
     "text": [
      "YMCA\n"
     ]
    }
   ],
   "source": [
    "folder = search(roots, 'Outlook データ ファイル\\\\受信トレイ\\\\YMCA'.split('\\\\'))\n",
    "print(folder.Name)\n",
    "save_items(folder.Items, 'test.csv')"
   ]
  },
  {
   "cell_type": "code",
   "execution_count": null,
   "metadata": {},
   "outputs": [],
   "source": []
  }
 ],
 "metadata": {
  "kernelspec": {
   "display_name": "Python 3",
   "language": "python",
   "name": "python3"
  },
  "language_info": {
   "codemirror_mode": {
    "name": "ipython",
    "version": 3
   },
   "file_extension": ".py",
   "mimetype": "text/x-python",
   "name": "python",
   "nbconvert_exporter": "python",
   "pygments_lexer": "ipython3",
   "version": "3.5.4"
  }
 },
 "nbformat": 4,
 "nbformat_minor": 2
}
