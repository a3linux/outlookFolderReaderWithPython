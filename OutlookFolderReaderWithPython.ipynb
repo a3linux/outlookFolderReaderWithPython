{
 "cells": [
  {
   "cell_type": "code",
   "execution_count": 1,
   "metadata": {},
   "outputs": [],
   "source": [
    "# -*- coding: utf-8 -*-\n",
    "\"\"\"Outlook folder reader:\n",
    " Read specified folder and save items in the folder to csv\n",
    "\n",
    "original:\n",
    "https://www.laurivan.com/python-and-outlook-an-example/\n",
    "see:\n",
    "https://docs.python.jp/3/using/windows.html#pywin32\n",
    "http://timgolden.me.uk/pywin32-docs/contents.html\n",
    "http://timgolden.me.uk/pywin32-docs/html/com/win32com/HTML/QuickStartClientCom.html\n",
    "http://fum125.hatenablog.com/entry/2016/11/12/233457\n",
    "https://msdn.microsoft.com/ja-jp/VBA/Outlook-VBA/articles/recipient-type-property-outlook\n",
    "https://docs.python.jp/3/library/csv.html?highlight=csv\n",
    "https://msdn.microsoft.com/ja-jp/vba/outlook-vba/articles/propertyaccessor-object-outlook\n",
    "\"\"\"\n",
    "import win32com.client\n",
    "\n",
    "DEBUG = False"
   ]
  },
  {
   "cell_type": "markdown",
   "metadata": {},
   "source": [
    "# Outlook オブジェクト作成"
   ]
  },
  {
   "cell_type": "code",
   "execution_count": 2,
   "metadata": {},
   "outputs": [],
   "source": [
    "outlook = win32com.client.Dispatch(\"Outlook.Application\").GetNamespace(\"MAPI\")"
   ]
  },
  {
   "cell_type": "markdown",
   "metadata": {},
   "source": [
    "# サポートメソッド"
   ]
  },
  {
   "cell_type": "code",
   "execution_count": 3,
   "metadata": {},
   "outputs": [],
   "source": [
    "def items(outlook_items_object):\n",
    "    array_size = outlook_items_object.Count\n",
    "    for item_index in range(1,array_size+1):\n",
    "        yield (item_index, outlook_items_object[item_index])\n",
    "    return\n",
    "\n",
    "        \n",
    "def prop(outlook_object):\n",
    "    return sorted( outlook_object._prop_map_get_.keys() )\n",
    "\n"
   ]
  },
  {
   "cell_type": "markdown",
   "metadata": {},
   "source": [
    "# フォルダーのパース"
   ]
  },
  {
   "cell_type": "code",
   "execution_count": 4,
   "metadata": {},
   "outputs": [],
   "source": [
    "roots = outlook.Folders"
   ]
  },
  {
   "cell_type": "code",
   "execution_count": 5,
   "metadata": {},
   "outputs": [],
   "source": [
    "def parse_folder(folder, recursive=False, depth=0, index=1):\n",
    "    if not folder:\n",
    "        return\n",
    "    print( \" \"*depth*2, u\"(%i) [%s] [%s]\" % (index, folder.Name, folder))\n",
    "    if recursive:\n",
    "        if folder.Folders:\n",
    "            for index, folder in items(folder.Folders):\n",
    "                parse_folder(folder, recursive, depth + 1, index)\n",
    "    return\n",
    "\n"
   ]
  },
  {
   "cell_type": "code",
   "execution_count": 6,
   "metadata": {},
   "outputs": [],
   "source": [
    "# コメントを外せば動作確認\n",
    "#for index, folder in items(roots):\n",
    "#    parse_folder(folder, recursive=True)"
   ]
  },
  {
   "cell_type": "markdown",
   "metadata": {},
   "source": [
    "# 特定のフォルダのアイテム表示"
   ]
  },
  {
   "cell_type": "code",
   "execution_count": 7,
   "metadata": {},
   "outputs": [],
   "source": [
    "def search(folders, query_path):\n",
    "    if DEBUG:\n",
    "        print(query_path)\n",
    "    if not folders:\n",
    "        return None\n",
    "    if len(query_path)<=0:\n",
    "        return None\n",
    "    for index, folder in items(folders):\n",
    "        if folder.Name == query_path[0]:\n",
    "            if len(query_path)==1:\n",
    "                return folder\n",
    "            else:\n",
    "                return search(folder.Folders, query_path[1:])\n",
    "    return None\n",
    "\n",
    "\n",
    "def get_mail_item_header(mail_item):\n",
    "    prop_name = \"http://schemas.microsoft.com/mapi/proptag/0x007D001E\"\n",
    "    return mail_item.PropertyAccessor.GetProperty(prop_name)\n",
    "\n",
    "\n",
    "def arrange_item(mail_item, body=False, header=False):\n",
    "    mail_from = mail_item.SenderEmailAddress + \";\"\n",
    "    mail_to = \"\"\n",
    "    mail_cc = \"\"\n",
    "    for i, recipient in items(mail_item.Recipients):\n",
    "        if recipient.Type == win32com.client.constants.olTo:\n",
    "            mail_to += recipient.Address + \";\"\n",
    "        if (recipient.Type == win32com.client.constants.olCC\n",
    "            or recipient.Type == win32com.client.constants.olBCC):\n",
    "            mail_cc += recipient.Address + \";\"\n",
    "        if recipient.Type == win32com.client.constants.olOriginator:\n",
    "            mail_from += recipient.Address + \";\"\n",
    "    mail_subj = mail_item.Subject\n",
    "    mail_sentdate = mail_item.SentOn\n",
    "    mail_body = \"\"\n",
    "    if body:\n",
    "        mail_body = mail_item.Body\n",
    "    mail_header = \"\"\n",
    "    if header:\n",
    "        mail_header = get_mail_item_header(mail_item)\n",
    "    return [mail_from, mail_to, mail_cc, str(mail_sentdate), mail_subj\n",
    "            , mail_body, mail_header]\n",
    "\n",
    "\n",
    "def print_folderitems(folder, recursive=False):\n",
    "    for index, item in items(folder.Items):\n",
    "        print(\"\\t\".join([folder.Name] + arrange_item(item)))\n",
    "    if recursive:\n",
    "        for index, subfolder in items(folder.Folders):\n",
    "            print_folderitems(subfolder, recursive)\n",
    "    return\n",
    "\n"
   ]
  },
  {
   "cell_type": "code",
   "execution_count": 8,
   "metadata": {},
   "outputs": [
    {
     "name": "stdout",
     "output_type": "stream",
     "text": [
      "受信トレイ\n"
     ]
    }
   ],
   "source": [
    "folder = search(roots, 'Outlook データ ファイル\\\\受信トレイ'.split('\\\\'))\n",
    "print(folder.Name)\n",
    "print_folderitems(folder, recursive=False)\n"
   ]
  },
  {
   "cell_type": "markdown",
   "metadata": {},
   "source": [
    "# 特定のフォルダのアイテムをCSV保存"
   ]
  },
  {
   "cell_type": "code",
   "execution_count": 9,
   "metadata": {},
   "outputs": [],
   "source": [
    "import csv\n",
    "\n",
    "def save_folderitems_sub(folder, csvwriter, recursive=False):\n",
    "    for index, mail_item in items(folder.Items):\n",
    "        item_arranged = arrange_item(mail_item, body=True, header=True)\n",
    "        csvwriter.writerow([folder.Name] + item_arranged)\n",
    "    if recursive:\n",
    "        for index, folder in items(folder.Folders):\n",
    "            save_folderitems_sub(folder, csvwriter, recursive)\n",
    "    return\n",
    "\n",
    "def save_folderitems(folder, save_filename, recursive=False):\n",
    "    with open(save_filename, 'w', newline=''\n",
    "              , encoding='utf-8', errors='replace') as csvfile:\n",
    "        writer = csv.writer(csvfile)\n",
    "        writer.writerow([\"folder\",\"from\", \"to\", \"cc\", \"sent date\"\n",
    "                         , \"subject\", \"body\", \"internet mail header\"])\n",
    "        save_folderitems_sub(folder, writer, recursive)\n",
    "    return\n"
   ]
  },
  {
   "cell_type": "code",
   "execution_count": 10,
   "metadata": {},
   "outputs": [
    {
     "name": "stdout",
     "output_type": "stream",
     "text": [
      "受信トレイ\n"
     ]
    }
   ],
   "source": [
    "folder = search(roots, 'Outlook データ ファイル\\\\受信トレイ'.split('\\\\'))\n",
    "print(folder.Name)\n",
    "save_folderitems(folder, 'test.csv', recursive=False)"
   ]
  },
  {
   "cell_type": "code",
   "execution_count": null,
   "metadata": {},
   "outputs": [],
   "source": []
  }
 ],
 "metadata": {
  "kernelspec": {
   "display_name": "Python 3",
   "language": "python",
   "name": "python3"
  },
  "language_info": {
   "codemirror_mode": {
    "name": "ipython",
    "version": 3
   },
   "file_extension": ".py",
   "mimetype": "text/x-python",
   "name": "python",
   "nbconvert_exporter": "python",
   "pygments_lexer": "ipython3",
   "version": "3.5.4"
  }
 },
 "nbformat": 4,
 "nbformat_minor": 2
}
