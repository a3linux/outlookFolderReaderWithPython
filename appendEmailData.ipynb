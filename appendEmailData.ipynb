{
 "cells": [
  {
   "cell_type": "code",
   "execution_count": 90,
   "metadata": {},
   "outputs": [
    {
     "data": {
      "text/plain": [
       "'\\nsee:\\nhttps://docs.python.jp/3/library/email.html\\n'"
      ]
     },
     "execution_count": 90,
     "metadata": {},
     "output_type": "execute_result"
    }
   ],
   "source": [
    "# encoding: utf8\n",
    "\"\"\"\n",
    "see:\n",
    "https://docs.python.jp/3/library/email.html\n",
    "\"\"\""
   ]
  },
  {
   "cell_type": "markdown",
   "metadata": {},
   "source": [
    "# データオープン"
   ]
  },
  {
   "cell_type": "code",
   "execution_count": 91,
   "metadata": {},
   "outputs": [],
   "source": [
    "import csv\n",
    "\n",
    "inputfile = open('test.csv', newline='', encoding='utf-8', errors='replace')\n",
    "reader = csv.reader(inputfile)\n",
    "\n",
    "outputfile = open('testAddData.csv', 'w', newline='', encoding='utf-8', errors='replace')\n",
    "writer = csv.writer(outputfile)"
   ]
  },
  {
   "cell_type": "markdown",
   "metadata": {},
   "source": [
    "# ヘッダ作成"
   ]
  },
  {
   "cell_type": "code",
   "execution_count": 92,
   "metadata": {},
   "outputs": [
    {
     "data": {
      "text/plain": [
       "108"
      ]
     },
     "execution_count": 92,
     "metadata": {},
     "output_type": "execute_result"
    }
   ],
   "source": [
    "header = next(reader)\n",
    "header.append(\"simple body\")\n",
    "header.append(\"message-id\")\n",
    "header.append(\"in-reply-to\")\n",
    "header.append(\"references\")\n",
    "header.append(\"mailer\")\n",
    "writer.writerow(header)"
   ]
  },
  {
   "cell_type": "markdown",
   "metadata": {},
   "source": [
    "# メール本文から返信元メッセージを削除"
   ]
  },
  {
   "cell_type": "code",
   "execution_count": 93,
   "metadata": {},
   "outputs": [],
   "source": [
    "import re\n",
    "orgMggPat = re.compile(r\"\\-+ *original *message *\\-+\", re.IGNORECASE)\n",
    "def removeOriginalMessage(mailBody):\n",
    "    m = orgMggPat.search(mailBody)\n",
    "    if m:\n",
    "        mailBody = mailBody[:m.start()]\n",
    "    return mailBody"
   ]
  },
  {
   "cell_type": "markdown",
   "metadata": {},
   "source": [
    "# ヘッダからメッセージIDを取得"
   ]
  },
  {
   "cell_type": "code",
   "execution_count": 94,
   "metadata": {},
   "outputs": [],
   "source": [
    "from email.parser import HeaderParser\n",
    "from email.policy import default\n",
    "parseHeader = HeaderParser(policy=default)"
   ]
  },
  {
   "cell_type": "markdown",
   "metadata": {},
   "source": [
    "# メール内容をパースしデータ追加"
   ]
  },
  {
   "cell_type": "code",
   "execution_count": 95,
   "metadata": {},
   "outputs": [],
   "source": [
    "for row in reader:\n",
    "    simpleBody = removeOriginalMessage(row[5])\n",
    "    headers = parseHeader.parsestr(row[6])\n",
    "    msgID = headers['message-id']\n",
    "    inreplyto = headers['in-reply-to']\n",
    "    references = headers['references']\n",
    "    mailer = headers['x-mailer']\n",
    "    row.append(simpleBody)\n",
    "    row.append(msgID)\n",
    "    row.append(inreplyto)\n",
    "    row.append(references)\n",
    "    row.append(mailer)\n",
    "    writer.writerow(row)"
   ]
  },
  {
   "cell_type": "markdown",
   "metadata": {},
   "source": [
    "# データクローズ"
   ]
  },
  {
   "cell_type": "code",
   "execution_count": 96,
   "metadata": {},
   "outputs": [],
   "source": [
    "inputfile.close()\n",
    "outputfile.close()"
   ]
  },
  {
   "cell_type": "code",
   "execution_count": null,
   "metadata": {},
   "outputs": [],
   "source": []
  }
 ],
 "metadata": {
  "kernelspec": {
   "display_name": "Python 3",
   "language": "python",
   "name": "python3"
  },
  "language_info": {
   "codemirror_mode": {
    "name": "ipython",
    "version": 3
   },
   "file_extension": ".py",
   "mimetype": "text/x-python",
   "name": "python",
   "nbconvert_exporter": "python",
   "pygments_lexer": "ipython3",
   "version": "3.5.4"
  }
 },
 "nbformat": 4,
 "nbformat_minor": 2
}
